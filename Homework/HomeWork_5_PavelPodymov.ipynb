{
 "cells": [
  {
   "cell_type": "markdown",
   "id": "301ab850",
   "metadata": {},
   "source": [
    "## Задача 1"
   ]
  },
  {
   "cell_type": "markdown",
   "id": "598b026d",
   "metadata": {},
   "source": [
    "Вы провели эксперимент c упрощением формы заказа в магазине Утконос и получили результаты по метрике конверсий в покупку. Выберите метод оценки и оцените есть ли стат. значимые различия между конверсиями в двух группах при alpha = 5%. Дайте краткие рекомендации команде."
   ]
  },
  {
   "cell_type": "markdown",
   "id": "c339caf4",
   "metadata": {},
   "source": [
    "Результаты:\n",
    "1)\tЧисло юзеров в группах, которые заходили на сайт в период эксперимента: n1 = 15550 и n2 = 15550.\\\n",
    "2)\tЧисло юзеров в группах, которые совершили хотя бы одну покупку за период эксперимента: n1 = 164 и n2 = 228\\\n",
    "3)\tКонверсии: conv1 = 1.05% conv2 = 1.47%."
   ]
  },
  {
   "cell_type": "code",
   "execution_count": 8,
   "id": "5c1f8477",
   "metadata": {},
   "outputs": [],
   "source": [
    "import numpy as np\n",
    "from scipy import stats"
   ]
  },
  {
   "attachments": {},
   "cell_type": "markdown",
   "id": "0093af4c",
   "metadata": {},
   "source": [
    "Нулевая гипотеза – Между конверсией в двух группах нет статистически значимых различий\\\n",
    "Альтернативная гипотеза – Между конверсией в двух группах есть статистически значимые различия"
   ]
  },
  {
   "cell_type": "code",
   "execution_count": 22,
   "id": "166c5888",
   "metadata": {},
   "outputs": [
    {
     "name": "stdout",
     "output_type": "stream",
     "text": [
      "Std. Error of difference = 0.0012649818974007033\n"
     ]
    }
   ],
   "source": [
    "n_1, n_2 = 15550, 15550\n",
    "conv_1, conv_2 = 164, 228\n",
    "p_1 = conv_1 / n_1\n",
    "p_2 = conv_2 / n_2\n",
    "se = np.sqrt((p_1 * (1 - p_1) / n_1) + (p_2 * (1 - p_2) / n_2))\n",
    "print(f'Std. Error of difference = {se}')"
   ]
  },
  {
   "cell_type": "code",
   "execution_count": 32,
   "id": "fe0cd110",
   "metadata": {},
   "outputs": [
    {
     "name": "stdout",
     "output_type": "stream",
     "text": [
      "Z-score: 3.253608320772605\n",
      "p_value: 0.0011394927281570754\n",
      "Relative uplift in Conversion Rate: 0.3902439024390244\n",
      "Difference between samples: 0.004129032258064515\n"
     ]
    }
   ],
   "source": [
    "z_score = (p_2 - p_1) / se\n",
    "print(f'Z-score: {z_score}')\n",
    "\n",
    "p_value = stats.norm.sf(abs(z_score)) * 2\n",
    "print(f'p_value: {p_value}')\n",
    "\n",
    "rel = (p_2 - p_1) / p_1\n",
    "print(f'Relative uplift in Conversion Rate: {rel}')\n",
    "\n",
    "md = prob_2 - prob_1\n",
    "print(f'Difference between samples: {md}')"
   ]
  },
  {
   "cell_type": "code",
   "execution_count": 10,
   "id": "d4ad8bba",
   "metadata": {},
   "outputs": [
    {
     "data": {
      "text/plain": [
       "(-0.0066789097833951545, -0.0017210902166048432)"
      ]
     },
     "execution_count": 10,
     "metadata": {},
     "output_type": "execute_result"
    }
   ],
   "source": [
    "left = md - 1.96 * se\n",
    "right = md + 1.96 * se\n",
    "\n",
    "left, right"
   ]
  },
  {
   "attachments": {},
   "cell_type": "markdown",
   "id": "98f5b558",
   "metadata": {},
   "source": [
    "Вывод:\\\n",
    "Если p-value < alpha - разница между группами стат.значима.\\\n",
    "0.0011394927281570754 < 0.05\\\n",
    "0 не входит в интервал - значит на основе собранных данных стат. значимая разница между двух групп обнаружена\\\n",
    "Вкатываем новое изменение!"
   ]
  },
  {
   "cell_type": "markdown",
   "id": "8123e8d8",
   "metadata": {},
   "source": [
    "## Задача 2"
   ]
  },
  {
   "cell_type": "markdown",
   "id": "bdb13b0f",
   "metadata": {},
   "source": [
    "Сравниваем метрику конверсия в покупку.\\\n",
    "Размер выборки - 10 000 элементов в каждой группе.\\\n",
    "Какой статистический критерий тут лучше всего подойдёт и почему?\n"
   ]
  },
  {
   "cell_type": "markdown",
   "id": "dba109a1",
   "metadata": {},
   "source": [
    "__Ответ:__"
   ]
  },
  {
   "cell_type": "markdown",
   "id": "48aa4b6a",
   "metadata": {},
   "source": [
    "Если идти по Рисуноку: Выбор статистического критерия для сравнения статистических совокупностей (По Мильчаков К.С.), то:\\\n",
    "Тип данных: количественный, непрерывный\\\n",
    "Распределение: неизвестно.\\\n",
    "Количество групп: нет данных.\\\n",
    "Связанность групп: не связаны.\\\n",
    "Это или Т-Критерий т-критерий Стьюдента для несвяазанных совокупностей или однофакторный дисперсионный анализ или критерий Манна-Уитни или критерий Краскела-Уоллиса."
   ]
  },
  {
   "cell_type": "markdown",
   "id": "a2eb0f53",
   "metadata": {},
   "source": [
    "Но также нам известно, что при больших размерах выборок результаты Z-теста и t-теста дают схожие значения p-value.\\\n",
    "И если выборка более 30, то используют Z критерий.\n",
    "т.е. мы будем использовать Z критерий."
   ]
  }
 ],
 "metadata": {
  "kernelspec": {
   "display_name": "Python 3 (ipykernel)",
   "language": "python",
   "name": "python3"
  },
  "language_info": {
   "codemirror_mode": {
    "name": "ipython",
    "version": 3
   },
   "file_extension": ".py",
   "mimetype": "text/x-python",
   "name": "python",
   "nbconvert_exporter": "python",
   "pygments_lexer": "ipython3",
   "version": "3.9.13"
  }
 },
 "nbformat": 4,
 "nbformat_minor": 5
}
